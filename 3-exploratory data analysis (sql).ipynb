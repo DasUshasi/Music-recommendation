{
 "cells": [
  {
   "cell_type": "code",
   "execution_count": 1,
   "metadata": {},
   "outputs": [],
   "source": [
    "%load_ext sql"
   ]
  },
  {
   "cell_type": "code",
   "execution_count": 2,
   "metadata": {},
   "outputs": [],
   "source": [
    "import csv, sqlite3\n",
    "import pandas as pd"
   ]
  },
  {
   "cell_type": "code",
   "execution_count": 3,
   "metadata": {},
   "outputs": [],
   "source": [
    "con = sqlite3.connect(\"database.db\")\n",
    "cur = con.cursor()"
   ]
  },
  {
   "cell_type": "code",
   "execution_count": 4,
   "metadata": {},
   "outputs": [],
   "source": [
    "%sql sqlite:///database.db"
   ]
  },
  {
   "cell_type": "code",
   "execution_count": 5,
   "metadata": {},
   "outputs": [
    {
     "data": {
      "text/plain": [
       "4718"
      ]
     },
     "execution_count": 5,
     "metadata": {},
     "output_type": "execute_result"
    }
   ],
   "source": [
    "data = pd.read_csv('datasets/data.csv')\n",
    "data.to_sql(\"SONGDATA\", con, if_exists='replace', index=False, method=\"multi\", chunksize=1000)"
   ]
  },
  {
   "cell_type": "markdown",
   "metadata": {},
   "source": [
    "description of the table"
   ]
  },
  {
   "cell_type": "code",
   "execution_count": 6,
   "metadata": {},
   "outputs": [
    {
     "name": "stdout",
     "output_type": "stream",
     "text": [
      " * sqlite:///database.db\n",
      "Done.\n"
     ]
    },
    {
     "data": {
      "text/html": [
       "<table>\n",
       "    <thead>\n",
       "        <tr>\n",
       "            <th>cid</th>\n",
       "            <th>name</th>\n",
       "            <th>type</th>\n",
       "            <th>notnull</th>\n",
       "            <th>dflt_value</th>\n",
       "            <th>pk</th>\n",
       "        </tr>\n",
       "    </thead>\n",
       "    <tbody>\n",
       "        <tr>\n",
       "            <td>0</td>\n",
       "            <td>energy</td>\n",
       "            <td>REAL</td>\n",
       "            <td>0</td>\n",
       "            <td>None</td>\n",
       "            <td>0</td>\n",
       "        </tr>\n",
       "        <tr>\n",
       "            <td>1</td>\n",
       "            <td>tempo</td>\n",
       "            <td>REAL</td>\n",
       "            <td>0</td>\n",
       "            <td>None</td>\n",
       "            <td>0</td>\n",
       "        </tr>\n",
       "        <tr>\n",
       "            <td>2</td>\n",
       "            <td>danceability</td>\n",
       "            <td>REAL</td>\n",
       "            <td>0</td>\n",
       "            <td>None</td>\n",
       "            <td>0</td>\n",
       "        </tr>\n",
       "        <tr>\n",
       "            <td>3</td>\n",
       "            <td>genre</td>\n",
       "            <td>TEXT</td>\n",
       "            <td>0</td>\n",
       "            <td>None</td>\n",
       "            <td>0</td>\n",
       "        </tr>\n",
       "        <tr>\n",
       "            <td>4</td>\n",
       "            <td>loudness</td>\n",
       "            <td>REAL</td>\n",
       "            <td>0</td>\n",
       "            <td>None</td>\n",
       "            <td>0</td>\n",
       "        </tr>\n",
       "        <tr>\n",
       "            <td>5</td>\n",
       "            <td>liveness</td>\n",
       "            <td>REAL</td>\n",
       "            <td>0</td>\n",
       "            <td>None</td>\n",
       "            <td>0</td>\n",
       "        </tr>\n",
       "        <tr>\n",
       "            <td>6</td>\n",
       "            <td>valence</td>\n",
       "            <td>REAL</td>\n",
       "            <td>0</td>\n",
       "            <td>None</td>\n",
       "            <td>0</td>\n",
       "        </tr>\n",
       "        <tr>\n",
       "            <td>7</td>\n",
       "            <td>artist</td>\n",
       "            <td>TEXT</td>\n",
       "            <td>0</td>\n",
       "            <td>None</td>\n",
       "            <td>0</td>\n",
       "        </tr>\n",
       "        <tr>\n",
       "            <td>8</td>\n",
       "            <td>time_signature</td>\n",
       "            <td>REAL</td>\n",
       "            <td>0</td>\n",
       "            <td>None</td>\n",
       "            <td>0</td>\n",
       "        </tr>\n",
       "        <tr>\n",
       "            <td>9</td>\n",
       "            <td>speechiness</td>\n",
       "            <td>REAL</td>\n",
       "            <td>0</td>\n",
       "            <td>None</td>\n",
       "            <td>0</td>\n",
       "        </tr>\n",
       "        <tr>\n",
       "            <td>10</td>\n",
       "            <td>track_popularity</td>\n",
       "            <td>INTEGER</td>\n",
       "            <td>0</td>\n",
       "            <td>None</td>\n",
       "            <td>0</td>\n",
       "        </tr>\n",
       "        <tr>\n",
       "            <td>11</td>\n",
       "            <td>album</td>\n",
       "            <td>TEXT</td>\n",
       "            <td>0</td>\n",
       "            <td>None</td>\n",
       "            <td>0</td>\n",
       "        </tr>\n",
       "        <tr>\n",
       "            <td>12</td>\n",
       "            <td>name</td>\n",
       "            <td>TEXT</td>\n",
       "            <td>0</td>\n",
       "            <td>None</td>\n",
       "            <td>0</td>\n",
       "        </tr>\n",
       "        <tr>\n",
       "            <td>13</td>\n",
       "            <td>instrumentalness</td>\n",
       "            <td>REAL</td>\n",
       "            <td>0</td>\n",
       "            <td>None</td>\n",
       "            <td>0</td>\n",
       "        </tr>\n",
       "        <tr>\n",
       "            <td>14</td>\n",
       "            <td>mode</td>\n",
       "            <td>REAL</td>\n",
       "            <td>0</td>\n",
       "            <td>None</td>\n",
       "            <td>0</td>\n",
       "        </tr>\n",
       "        <tr>\n",
       "            <td>15</td>\n",
       "            <td>key</td>\n",
       "            <td>REAL</td>\n",
       "            <td>0</td>\n",
       "            <td>None</td>\n",
       "            <td>0</td>\n",
       "        </tr>\n",
       "        <tr>\n",
       "            <td>16</td>\n",
       "            <td>duration_ms</td>\n",
       "            <td>REAL</td>\n",
       "            <td>0</td>\n",
       "            <td>None</td>\n",
       "            <td>0</td>\n",
       "        </tr>\n",
       "        <tr>\n",
       "            <td>17</td>\n",
       "            <td>acousticness</td>\n",
       "            <td>REAL</td>\n",
       "            <td>0</td>\n",
       "            <td>None</td>\n",
       "            <td>0</td>\n",
       "        </tr>\n",
       "        <tr>\n",
       "            <td>18</td>\n",
       "            <td>id</td>\n",
       "            <td>TEXT</td>\n",
       "            <td>0</td>\n",
       "            <td>None</td>\n",
       "            <td>0</td>\n",
       "        </tr>\n",
       "        <tr>\n",
       "            <td>19</td>\n",
       "            <td>popularity</td>\n",
       "            <td>INTEGER</td>\n",
       "            <td>0</td>\n",
       "            <td>None</td>\n",
       "            <td>0</td>\n",
       "        </tr>\n",
       "        <tr>\n",
       "            <td>20</td>\n",
       "            <td>release_year</td>\n",
       "            <td>INTEGER</td>\n",
       "            <td>0</td>\n",
       "            <td>None</td>\n",
       "            <td>0</td>\n",
       "        </tr>\n",
       "    </tbody>\n",
       "</table>"
      ],
      "text/plain": [
       "[(0, 'energy', 'REAL', 0, None, 0),\n",
       " (1, 'tempo', 'REAL', 0, None, 0),\n",
       " (2, 'danceability', 'REAL', 0, None, 0),\n",
       " (3, 'genre', 'TEXT', 0, None, 0),\n",
       " (4, 'loudness', 'REAL', 0, None, 0),\n",
       " (5, 'liveness', 'REAL', 0, None, 0),\n",
       " (6, 'valence', 'REAL', 0, None, 0),\n",
       " (7, 'artist', 'TEXT', 0, None, 0),\n",
       " (8, 'time_signature', 'REAL', 0, None, 0),\n",
       " (9, 'speechiness', 'REAL', 0, None, 0),\n",
       " (10, 'track_popularity', 'INTEGER', 0, None, 0),\n",
       " (11, 'album', 'TEXT', 0, None, 0),\n",
       " (12, 'name', 'TEXT', 0, None, 0),\n",
       " (13, 'instrumentalness', 'REAL', 0, None, 0),\n",
       " (14, 'mode', 'REAL', 0, None, 0),\n",
       " (15, 'key', 'REAL', 0, None, 0),\n",
       " (16, 'duration_ms', 'REAL', 0, None, 0),\n",
       " (17, 'acousticness', 'REAL', 0, None, 0),\n",
       " (18, 'id', 'TEXT', 0, None, 0),\n",
       " (19, 'popularity', 'INTEGER', 0, None, 0),\n",
       " (20, 'release_year', 'INTEGER', 0, None, 0)]"
      ]
     },
     "execution_count": 6,
     "metadata": {},
     "output_type": "execute_result"
    }
   ],
   "source": [
    "%sql PRAGMA table_info(SONGDATA)"
   ]
  },
  {
   "cell_type": "markdown",
   "metadata": {},
   "source": [
    "<h3>data for popular songs in 2024</h3>"
   ]
  },
  {
   "cell_type": "markdown",
   "metadata": {},
   "source": [
    "lets see top 10 most popular songs in 2024"
   ]
  },
  {
   "cell_type": "code",
   "execution_count": 7,
   "metadata": {},
   "outputs": [
    {
     "name": "stdout",
     "output_type": "stream",
     "text": [
      " * sqlite:///database.db\n",
      "Done.\n"
     ]
    },
    {
     "data": {
      "text/html": [
       "<table>\n",
       "    <thead>\n",
       "        <tr>\n",
       "            <th>name</th>\n",
       "            <th>artist</th>\n",
       "        </tr>\n",
       "    </thead>\n",
       "    <tbody>\n",
       "        <tr>\n",
       "            <td>Die With A Smile</td>\n",
       "            <td>Lady Gaga, Bruno Mars</td>\n",
       "        </tr>\n",
       "        <tr>\n",
       "            <td>APT.</td>\n",
       "            <td>ROSÉ, Bruno Mars</td>\n",
       "        </tr>\n",
       "        <tr>\n",
       "            <td>BIRDS OF A FEATHER</td>\n",
       "            <td>Billie Eilish</td>\n",
       "        </tr>\n",
       "        <tr>\n",
       "            <td>Good Luck, Babe!</td>\n",
       "            <td>Chappell Roan</td>\n",
       "        </tr>\n",
       "        <tr>\n",
       "            <td>That’s So True</td>\n",
       "            <td>Gracie Abrams</td>\n",
       "        </tr>\n",
       "        <tr>\n",
       "            <td>WILDFLOWER</td>\n",
       "            <td>Billie Eilish</td>\n",
       "        </tr>\n",
       "        <tr>\n",
       "            <td>Tu Boda</td>\n",
       "            <td>Oscar Maydon, Fuerza Regida</td>\n",
       "        </tr>\n",
       "        <tr>\n",
       "            <td>Si Antes Te Hubiera Conocido</td>\n",
       "            <td>KAROL G</td>\n",
       "        </tr>\n",
       "        <tr>\n",
       "            <td>Timeless (with Playboi Carti)</td>\n",
       "            <td>The Weeknd, Playboi Carti</td>\n",
       "        </tr>\n",
       "        <tr>\n",
       "            <td>Who</td>\n",
       "            <td>Jimin</td>\n",
       "        </tr>\n",
       "    </tbody>\n",
       "</table>"
      ],
      "text/plain": [
       "[('Die With A Smile', 'Lady Gaga, Bruno Mars'),\n",
       " ('APT.', 'ROSÉ, Bruno Mars'),\n",
       " ('BIRDS OF A FEATHER', 'Billie Eilish'),\n",
       " ('Good Luck, Babe!', 'Chappell Roan'),\n",
       " ('That’s So True', 'Gracie Abrams'),\n",
       " ('WILDFLOWER', 'Billie Eilish'),\n",
       " ('Tu Boda', 'Oscar Maydon, Fuerza Regida'),\n",
       " ('Si Antes Te Hubiera Conocido', 'KAROL G'),\n",
       " ('Timeless (with Playboi Carti)', 'The Weeknd, Playboi Carti'),\n",
       " ('Who', 'Jimin')]"
      ]
     },
     "execution_count": 7,
     "metadata": {},
     "output_type": "execute_result"
    }
   ],
   "source": [
    "%%sql\n",
    "SELECT DISTINCT (name), artist FROM SONGDATA \n",
    "WHERE release_year = 2024\n",
    "ORDER BY track_popularity DESC LIMIT 10"
   ]
  },
  {
   "cell_type": "markdown",
   "metadata": {},
   "source": [
    "as pop is the most popular genre, lets see how many pop songs were popular in 2024"
   ]
  },
  {
   "cell_type": "code",
   "execution_count": 8,
   "metadata": {},
   "outputs": [
    {
     "name": "stdout",
     "output_type": "stream",
     "text": [
      " * sqlite:///database.db\n",
      "Done.\n"
     ]
    },
    {
     "data": {
      "text/html": [
       "<table>\n",
       "    <thead>\n",
       "        <tr>\n",
       "            <th>POPULAR_SONGS</th>\n",
       "        </tr>\n",
       "    </thead>\n",
       "    <tbody>\n",
       "        <tr>\n",
       "            <td>62</td>\n",
       "        </tr>\n",
       "    </tbody>\n",
       "</table>"
      ],
      "text/plain": [
       "[(62,)]"
      ]
     },
     "execution_count": 8,
     "metadata": {},
     "output_type": "execute_result"
    }
   ],
   "source": [
    "%%sql\n",
    "SELECT COUNT(*) AS POPULAR_SONGS FROM SONGDATA \n",
    "WHERE release_year = 2024 AND genre = \"pop\" AND popularity = 1"
   ]
  },
  {
   "cell_type": "markdown",
   "metadata": {},
   "source": [
    "there are 62 pop songs released in 2024 that were popular"
   ]
  },
  {
   "cell_type": "markdown",
   "metadata": {},
   "source": [
    "now lets see the songs that were really popular"
   ]
  },
  {
   "cell_type": "code",
   "execution_count": 9,
   "metadata": {},
   "outputs": [
    {
     "name": "stdout",
     "output_type": "stream",
     "text": [
      " * sqlite:///database.db\n",
      "Done.\n"
     ]
    },
    {
     "data": {
      "text/html": [
       "<table>\n",
       "    <thead>\n",
       "        <tr>\n",
       "            <th>VERY_POPULAR_SONGS</th>\n",
       "        </tr>\n",
       "    </thead>\n",
       "    <tbody>\n",
       "        <tr>\n",
       "            <td>12</td>\n",
       "        </tr>\n",
       "    </tbody>\n",
       "</table>"
      ],
      "text/plain": [
       "[(12,)]"
      ]
     },
     "execution_count": 9,
     "metadata": {},
     "output_type": "execute_result"
    }
   ],
   "source": [
    "%%sql\n",
    "SELECT COUNT(*) AS VERY_POPULAR_SONGS FROM SONGDATA \n",
    "WHERE release_year = 2024 AND genre = \"pop\" AND track_popularity > 90"
   ]
  },
  {
   "cell_type": "markdown",
   "metadata": {},
   "source": [
    "there were 12 very popular songs, lets see what they were"
   ]
  },
  {
   "cell_type": "code",
   "execution_count": 10,
   "metadata": {},
   "outputs": [
    {
     "name": "stdout",
     "output_type": "stream",
     "text": [
      " * sqlite:///database.db\n",
      "Done.\n"
     ]
    },
    {
     "data": {
      "text/html": [
       "<table>\n",
       "    <thead>\n",
       "        <tr>\n",
       "            <th>name</th>\n",
       "            <th>artist</th>\n",
       "            <th>track_popularity</th>\n",
       "        </tr>\n",
       "    </thead>\n",
       "    <tbody>\n",
       "        <tr>\n",
       "            <td>Die With A Smile</td>\n",
       "            <td>Lady Gaga, Bruno Mars</td>\n",
       "            <td>100</td>\n",
       "        </tr>\n",
       "        <tr>\n",
       "            <td>APT.</td>\n",
       "            <td>ROSÉ, Bruno Mars</td>\n",
       "            <td>98</td>\n",
       "        </tr>\n",
       "        <tr>\n",
       "            <td>BIRDS OF A FEATHER</td>\n",
       "            <td>Billie Eilish</td>\n",
       "            <td>97</td>\n",
       "        </tr>\n",
       "        <tr>\n",
       "            <td>Good Luck, Babe!</td>\n",
       "            <td>Chappell Roan</td>\n",
       "            <td>94</td>\n",
       "        </tr>\n",
       "        <tr>\n",
       "            <td>WILDFLOWER</td>\n",
       "            <td>Billie Eilish</td>\n",
       "            <td>93</td>\n",
       "        </tr>\n",
       "        <tr>\n",
       "            <td>Tu Boda</td>\n",
       "            <td>Oscar Maydon, Fuerza Regida</td>\n",
       "            <td>93</td>\n",
       "        </tr>\n",
       "        <tr>\n",
       "            <td>That’s So True</td>\n",
       "            <td>Gracie Abrams</td>\n",
       "            <td>93</td>\n",
       "        </tr>\n",
       "        <tr>\n",
       "            <td>Taste</td>\n",
       "            <td>Sabrina Carpenter</td>\n",
       "            <td>93</td>\n",
       "        </tr>\n",
       "        <tr>\n",
       "            <td>Si Antes Te Hubiera Conocido</td>\n",
       "            <td>KAROL G</td>\n",
       "            <td>93</td>\n",
       "        </tr>\n",
       "        <tr>\n",
       "            <td>Sailor Song</td>\n",
       "            <td>Gigi Perez</td>\n",
       "            <td>93</td>\n",
       "        </tr>\n",
       "        <tr>\n",
       "            <td>Who</td>\n",
       "            <td>Jimin</td>\n",
       "            <td>92</td>\n",
       "        </tr>\n",
       "        <tr>\n",
       "            <td>Timeless (with Playboi Carti)</td>\n",
       "            <td>The Weeknd, Playboi Carti</td>\n",
       "            <td>92</td>\n",
       "        </tr>\n",
       "    </tbody>\n",
       "</table>"
      ],
      "text/plain": [
       "[('Die With A Smile', 'Lady Gaga, Bruno Mars', 100),\n",
       " ('APT.', 'ROSÉ, Bruno Mars', 98),\n",
       " ('BIRDS OF A FEATHER', 'Billie Eilish', 97),\n",
       " ('Good Luck, Babe!', 'Chappell Roan', 94),\n",
       " ('WILDFLOWER', 'Billie Eilish', 93),\n",
       " ('Tu Boda', 'Oscar Maydon, Fuerza Regida', 93),\n",
       " ('That’s So True', 'Gracie Abrams', 93),\n",
       " ('Taste', 'Sabrina Carpenter', 93),\n",
       " ('Si Antes Te Hubiera Conocido', 'KAROL G', 93),\n",
       " ('Sailor Song', 'Gigi Perez', 93),\n",
       " ('Who', 'Jimin', 92),\n",
       " ('Timeless (with Playboi Carti)', 'The Weeknd, Playboi Carti', 92)]"
      ]
     },
     "execution_count": 10,
     "metadata": {},
     "output_type": "execute_result"
    }
   ],
   "source": [
    "%%sql\n",
    "SELECT name, artist, track_popularity FROM SONGDATA \n",
    "WHERE release_year = 2024 AND genre = \"pop\" AND track_popularity > 90\n",
    "GROUP BY name\n",
    "ORDER BY track_popularity DESC"
   ]
  },
  {
   "cell_type": "markdown",
   "metadata": {},
   "source": [
    "<h4>songs and popularity of few famous artists</h4>"
   ]
  },
  {
   "cell_type": "markdown",
   "metadata": {},
   "source": [
    "Bruno Mars"
   ]
  },
  {
   "cell_type": "code",
   "execution_count": 11,
   "metadata": {},
   "outputs": [
    {
     "name": "stdout",
     "output_type": "stream",
     "text": [
      " * sqlite:///database.db\n",
      "Done.\n"
     ]
    },
    {
     "data": {
      "text/html": [
       "<table>\n",
       "    <thead>\n",
       "        <tr>\n",
       "            <th>name</th>\n",
       "            <th>artist</th>\n",
       "            <th>genre</th>\n",
       "            <th>release_year</th>\n",
       "            <th>track_popularity</th>\n",
       "        </tr>\n",
       "    </thead>\n",
       "    <tbody>\n",
       "        <tr>\n",
       "            <td>Die With A Smile</td>\n",
       "            <td>Lady Gaga, Bruno Mars</td>\n",
       "            <td>pop</td>\n",
       "            <td>2024</td>\n",
       "            <td>100</td>\n",
       "        </tr>\n",
       "        <tr>\n",
       "            <td>APT.</td>\n",
       "            <td>ROSÉ, Bruno Mars</td>\n",
       "            <td>pop</td>\n",
       "            <td>2024</td>\n",
       "            <td>98</td>\n",
       "        </tr>\n",
       "        <tr>\n",
       "            <td>Locked out of Heaven</td>\n",
       "            <td>Bruno Mars</td>\n",
       "            <td>pop</td>\n",
       "            <td>2012</td>\n",
       "            <td>89</td>\n",
       "        </tr>\n",
       "        <tr>\n",
       "            <td>That&#x27;s What I Like</td>\n",
       "            <td>Bruno Mars</td>\n",
       "            <td>pop</td>\n",
       "            <td>2016</td>\n",
       "            <td>88</td>\n",
       "        </tr>\n",
       "        <tr>\n",
       "            <td>When I Was Your Man</td>\n",
       "            <td>Bruno Mars</td>\n",
       "            <td>pop</td>\n",
       "            <td>2012</td>\n",
       "            <td>87</td>\n",
       "        </tr>\n",
       "    </tbody>\n",
       "</table>"
      ],
      "text/plain": [
       "[('Die With A Smile', 'Lady Gaga, Bruno Mars', 'pop', 2024, 100),\n",
       " ('APT.', 'ROSÉ, Bruno Mars', 'pop', 2024, 98),\n",
       " ('Locked out of Heaven', 'Bruno Mars', 'pop', 2012, 89),\n",
       " (\"That's What I Like\", 'Bruno Mars', 'pop', 2016, 88),\n",
       " ('When I Was Your Man', 'Bruno Mars', 'pop', 2012, 87)]"
      ]
     },
     "execution_count": 11,
     "metadata": {},
     "output_type": "execute_result"
    }
   ],
   "source": [
    "%%sql\n",
    "SELECT DISTINCT(name), artist, genre, release_year, track_popularity FROM SONGDATA\n",
    "WHERE artist LIKE \"%Bruno Mars%\"\n",
    "GROUP BY name\n",
    "ORDER BY track_popularity DESC LIMIT 5"
   ]
  },
  {
   "cell_type": "markdown",
   "metadata": {},
   "source": [
    "Sabrina Carpenter"
   ]
  },
  {
   "cell_type": "code",
   "execution_count": 12,
   "metadata": {},
   "outputs": [
    {
     "name": "stdout",
     "output_type": "stream",
     "text": [
      " * sqlite:///database.db\n",
      "Done.\n"
     ]
    },
    {
     "data": {
      "text/html": [
       "<table>\n",
       "    <thead>\n",
       "        <tr>\n",
       "            <th>name</th>\n",
       "            <th>artist</th>\n",
       "            <th>genre</th>\n",
       "            <th>release_year</th>\n",
       "            <th>track_popularity</th>\n",
       "        </tr>\n",
       "    </thead>\n",
       "    <tbody>\n",
       "        <tr>\n",
       "            <td>Espresso</td>\n",
       "            <td>Sabrina Carpenter</td>\n",
       "            <td>pop</td>\n",
       "            <td>2024</td>\n",
       "            <td>90</td>\n",
       "        </tr>\n",
       "        <tr>\n",
       "            <td>Bed Chem</td>\n",
       "            <td>Sabrina Carpenter</td>\n",
       "            <td>pop</td>\n",
       "            <td>2024</td>\n",
       "            <td>90</td>\n",
       "        </tr>\n",
       "        <tr>\n",
       "            <td>Please Please Please</td>\n",
       "            <td>Sabrina Carpenter</td>\n",
       "            <td>pop</td>\n",
       "            <td>2024</td>\n",
       "            <td>88</td>\n",
       "        </tr>\n",
       "        <tr>\n",
       "            <td>Juno</td>\n",
       "            <td>Sabrina Carpenter</td>\n",
       "            <td>pop</td>\n",
       "            <td>2024</td>\n",
       "            <td>87</td>\n",
       "        </tr>\n",
       "        <tr>\n",
       "            <td>Nonsense</td>\n",
       "            <td>Sabrina Carpenter</td>\n",
       "            <td>pop</td>\n",
       "            <td>2022</td>\n",
       "            <td>86</td>\n",
       "        </tr>\n",
       "    </tbody>\n",
       "</table>"
      ],
      "text/plain": [
       "[('Espresso', 'Sabrina Carpenter', 'pop', 2024, 90),\n",
       " ('Bed Chem', 'Sabrina Carpenter', 'pop', 2024, 90),\n",
       " ('Please Please Please', 'Sabrina Carpenter', 'pop', 2024, 88),\n",
       " ('Juno', 'Sabrina Carpenter', 'pop', 2024, 87),\n",
       " ('Nonsense', 'Sabrina Carpenter', 'pop', 2022, 86)]"
      ]
     },
     "execution_count": 12,
     "metadata": {},
     "output_type": "execute_result"
    }
   ],
   "source": [
    "%%sql\n",
    "SELECT DISTINCT name, artist, genre, release_year, track_popularity FROM SONGDATA\n",
    "WHERE artist LIKE \"%Sabrina Carpenter%\"\n",
    "GROUP BY name\n",
    "ORDER BY track_popularity DESC LIMIT 5"
   ]
  },
  {
   "cell_type": "markdown",
   "metadata": {},
   "source": [
    "Taylor Swift"
   ]
  },
  {
   "cell_type": "code",
   "execution_count": 13,
   "metadata": {},
   "outputs": [
    {
     "name": "stdout",
     "output_type": "stream",
     "text": [
      " * sqlite:///database.db\n",
      "Done.\n"
     ]
    },
    {
     "data": {
      "text/html": [
       "<table>\n",
       "    <thead>\n",
       "        <tr>\n",
       "            <th>name</th>\n",
       "            <th>artist</th>\n",
       "            <th>genre</th>\n",
       "            <th>release_year</th>\n",
       "            <th>track_popularity</th>\n",
       "        </tr>\n",
       "    </thead>\n",
       "    <tbody>\n",
       "        <tr>\n",
       "            <td>Lover</td>\n",
       "            <td>Taylor Swift</td>\n",
       "            <td>pop</td>\n",
       "            <td>2019</td>\n",
       "            <td>84</td>\n",
       "        </tr>\n",
       "        <tr>\n",
       "            <td>Fortnight (feat. Post Malone)</td>\n",
       "            <td>Taylor Swift, Post Malone</td>\n",
       "            <td>pop</td>\n",
       "            <td>2024</td>\n",
       "            <td>84</td>\n",
       "        </tr>\n",
       "        <tr>\n",
       "            <td>cardigan</td>\n",
       "            <td>Taylor Swift</td>\n",
       "            <td>ambient</td>\n",
       "            <td>2020</td>\n",
       "            <td>83</td>\n",
       "        </tr>\n",
       "        <tr>\n",
       "            <td>I Can Do It With a Broken Heart</td>\n",
       "            <td>Taylor Swift</td>\n",
       "            <td>gaming</td>\n",
       "            <td>2024</td>\n",
       "            <td>83</td>\n",
       "        </tr>\n",
       "        <tr>\n",
       "            <td>Anti-Hero</td>\n",
       "            <td>Taylor Swift</td>\n",
       "            <td>pop</td>\n",
       "            <td>2022</td>\n",
       "            <td>81</td>\n",
       "        </tr>\n",
       "    </tbody>\n",
       "</table>"
      ],
      "text/plain": [
       "[('Lover', 'Taylor Swift', 'pop', 2019, 84),\n",
       " ('Fortnight (feat. Post Malone)', 'Taylor Swift, Post Malone', 'pop', 2024, 84),\n",
       " ('cardigan', 'Taylor Swift', 'ambient', 2020, 83),\n",
       " ('I Can Do It With a Broken Heart', 'Taylor Swift', 'gaming', 2024, 83),\n",
       " ('Anti-Hero', 'Taylor Swift', 'pop', 2022, 81)]"
      ]
     },
     "execution_count": 13,
     "metadata": {},
     "output_type": "execute_result"
    }
   ],
   "source": [
    "%%sql\n",
    "SELECT DISTINCT name, artist, genre, release_year, track_popularity FROM SONGDATA\n",
    "WHERE artist LIKE \"%Taylor Swift%\"\n",
    "GROUP BY name\n",
    "ORDER BY track_popularity DESC LIMIT 5"
   ]
  },
  {
   "cell_type": "markdown",
   "metadata": {},
   "source": [
    "Drake"
   ]
  },
  {
   "cell_type": "code",
   "execution_count": 14,
   "metadata": {},
   "outputs": [
    {
     "name": "stdout",
     "output_type": "stream",
     "text": [
      " * sqlite:///database.db\n",
      "Done.\n"
     ]
    },
    {
     "data": {
      "text/html": [
       "<table>\n",
       "    <thead>\n",
       "        <tr>\n",
       "            <th>name</th>\n",
       "            <th>artist</th>\n",
       "            <th>genre</th>\n",
       "            <th>release_year</th>\n",
       "            <th>track_popularity</th>\n",
       "        </tr>\n",
       "    </thead>\n",
       "    <tbody>\n",
       "        <tr>\n",
       "            <td>WAIT FOR U (feat. Drake &amp; Tems)</td>\n",
       "            <td>Future, Drake, Tems</td>\n",
       "            <td>gaming</td>\n",
       "            <td>2022</td>\n",
       "            <td>82</td>\n",
       "        </tr>\n",
       "        <tr>\n",
       "            <td>Passionfruit</td>\n",
       "            <td>Drake</td>\n",
       "            <td>hip-hop</td>\n",
       "            <td>2017</td>\n",
       "            <td>80</td>\n",
       "        </tr>\n",
       "        <tr>\n",
       "            <td>Jimmy Cooks (feat. 21 Savage)</td>\n",
       "            <td>Drake, 21 Savage</td>\n",
       "            <td>hip-hop</td>\n",
       "            <td>2022</td>\n",
       "            <td>80</td>\n",
       "        </tr>\n",
       "        <tr>\n",
       "            <td>Circadian Rhythm</td>\n",
       "            <td>Drake</td>\n",
       "            <td>hip-hop</td>\n",
       "            <td>2024</td>\n",
       "            <td>79</td>\n",
       "        </tr>\n",
       "        <tr>\n",
       "            <td>No Face</td>\n",
       "            <td>Drake</td>\n",
       "            <td>hip-hop</td>\n",
       "            <td>2024</td>\n",
       "            <td>78</td>\n",
       "        </tr>\n",
       "    </tbody>\n",
       "</table>"
      ],
      "text/plain": [
       "[('WAIT FOR U (feat. Drake & Tems)', 'Future, Drake, Tems', 'gaming', 2022, 82),\n",
       " ('Passionfruit', 'Drake', 'hip-hop', 2017, 80),\n",
       " ('Jimmy Cooks (feat. 21 Savage)', 'Drake, 21 Savage', 'hip-hop', 2022, 80),\n",
       " ('Circadian Rhythm', 'Drake', 'hip-hop', 2024, 79),\n",
       " ('No Face', 'Drake', 'hip-hop', 2024, 78)]"
      ]
     },
     "execution_count": 14,
     "metadata": {},
     "output_type": "execute_result"
    }
   ],
   "source": [
    "%%sql\n",
    "SELECT DISTINCT name, artist, genre, release_year, track_popularity FROM SONGDATA\n",
    "WHERE artist LIKE \"%Drake%\"\n",
    "GROUP BY name\n",
    "ORDER BY track_popularity DESC LIMIT 5"
   ]
  },
  {
   "cell_type": "markdown",
   "metadata": {},
   "source": [
    "Billie Eilish"
   ]
  },
  {
   "cell_type": "code",
   "execution_count": 15,
   "metadata": {},
   "outputs": [
    {
     "name": "stdout",
     "output_type": "stream",
     "text": [
      " * sqlite:///database.db\n",
      "Done.\n"
     ]
    },
    {
     "data": {
      "text/html": [
       "<table>\n",
       "    <thead>\n",
       "        <tr>\n",
       "            <th>name</th>\n",
       "            <th>artist</th>\n",
       "            <th>genre</th>\n",
       "            <th>release_year</th>\n",
       "            <th>track_popularity</th>\n",
       "        </tr>\n",
       "    </thead>\n",
       "    <tbody>\n",
       "        <tr>\n",
       "            <td>BIRDS OF A FEATHER</td>\n",
       "            <td>Billie Eilish</td>\n",
       "            <td>pop</td>\n",
       "            <td>2024</td>\n",
       "            <td>97</td>\n",
       "        </tr>\n",
       "        <tr>\n",
       "            <td>WILDFLOWER</td>\n",
       "            <td>Billie Eilish</td>\n",
       "            <td>pop</td>\n",
       "            <td>2024</td>\n",
       "            <td>93</td>\n",
       "        </tr>\n",
       "        <tr>\n",
       "            <td>lovely (with Khalid)</td>\n",
       "            <td>Billie Eilish, Khalid</td>\n",
       "            <td>pop</td>\n",
       "            <td>2018</td>\n",
       "            <td>86</td>\n",
       "        </tr>\n",
       "        <tr>\n",
       "            <td>Guess featuring billie eilish</td>\n",
       "            <td>Charli xcx, Billie Eilish</td>\n",
       "            <td>pop</td>\n",
       "            <td>2024</td>\n",
       "            <td>85</td>\n",
       "        </tr>\n",
       "        <tr>\n",
       "            <td>Halley&#x27;s Comet</td>\n",
       "            <td>Billie Eilish</td>\n",
       "            <td>ambient</td>\n",
       "            <td>2021</td>\n",
       "            <td>75</td>\n",
       "        </tr>\n",
       "    </tbody>\n",
       "</table>"
      ],
      "text/plain": [
       "[('BIRDS OF A FEATHER', 'Billie Eilish', 'pop', 2024, 97),\n",
       " ('WILDFLOWER', 'Billie Eilish', 'pop', 2024, 93),\n",
       " ('lovely (with Khalid)', 'Billie Eilish, Khalid', 'pop', 2018, 86),\n",
       " ('Guess featuring billie eilish', 'Charli xcx, Billie Eilish', 'pop', 2024, 85),\n",
       " (\"Halley's Comet\", 'Billie Eilish', 'ambient', 2021, 75)]"
      ]
     },
     "execution_count": 15,
     "metadata": {},
     "output_type": "execute_result"
    }
   ],
   "source": [
    "%%sql\n",
    "SELECT DISTINCT name, artist, genre, release_year, track_popularity FROM SONGDATA\n",
    "WHERE artist LIKE \"%Billie Eilish%\"\n",
    "GROUP BY name\n",
    "ORDER BY track_popularity DESC LIMIT 5"
   ]
  },
  {
   "cell_type": "markdown",
   "metadata": {},
   "source": [
    "all of these artists had few popular songs in 2024"
   ]
  },
  {
   "cell_type": "markdown",
   "metadata": {},
   "source": [
    "<h4>2nd popular song genres in 2023 and 2024</h4>"
   ]
  },
  {
   "cell_type": "markdown",
   "metadata": {},
   "source": [
    "most popular k-pop genre songs"
   ]
  },
  {
   "cell_type": "code",
   "execution_count": 16,
   "metadata": {},
   "outputs": [
    {
     "name": "stdout",
     "output_type": "stream",
     "text": [
      " * sqlite:///database.db\n",
      "Done.\n"
     ]
    },
    {
     "data": {
      "text/html": [
       "<table>\n",
       "    <thead>\n",
       "        <tr>\n",
       "            <th>name</th>\n",
       "            <th>artist</th>\n",
       "            <th>genre</th>\n",
       "            <th>release_year</th>\n",
       "            <th>track_popularity</th>\n",
       "        </tr>\n",
       "    </thead>\n",
       "    <tbody>\n",
       "        <tr>\n",
       "            <td>Rockstar</td>\n",
       "            <td>LISA</td>\n",
       "            <td>k-pop</td>\n",
       "            <td>2024</td>\n",
       "            <td>83</td>\n",
       "        </tr>\n",
       "        <tr>\n",
       "            <td>SPOT!</td>\n",
       "            <td>ZICO, JENNIE</td>\n",
       "            <td>k-pop</td>\n",
       "            <td>2024</td>\n",
       "            <td>78</td>\n",
       "        </tr>\n",
       "        <tr>\n",
       "            <td>SHEESH</td>\n",
       "            <td>BABYMONSTER</td>\n",
       "            <td>k-pop</td>\n",
       "            <td>2024</td>\n",
       "            <td>78</td>\n",
       "        </tr>\n",
       "        <tr>\n",
       "            <td>How Sweet</td>\n",
       "            <td>NewJeans</td>\n",
       "            <td>k-pop</td>\n",
       "            <td>2024</td>\n",
       "            <td>78</td>\n",
       "        </tr>\n",
       "        <tr>\n",
       "            <td>Drama</td>\n",
       "            <td>aespa</td>\n",
       "            <td>k-pop</td>\n",
       "            <td>2023</td>\n",
       "            <td>78</td>\n",
       "        </tr>\n",
       "    </tbody>\n",
       "</table>"
      ],
      "text/plain": [
       "[('Rockstar', 'LISA', 'k-pop', 2024, 83),\n",
       " ('SPOT!', 'ZICO, JENNIE', 'k-pop', 2024, 78),\n",
       " ('SHEESH', 'BABYMONSTER', 'k-pop', 2024, 78),\n",
       " ('How Sweet', 'NewJeans', 'k-pop', 2024, 78),\n",
       " ('Drama', 'aespa', 'k-pop', 2023, 78)]"
      ]
     },
     "execution_count": 16,
     "metadata": {},
     "output_type": "execute_result"
    }
   ],
   "source": [
    "%%sql\n",
    "SELECT DISTINCT(name), artist, genre, release_year, track_popularity FROM SONGDATA\n",
    "WHERE genre = 'k-pop'\n",
    "GROUP BY name\n",
    "ORDER BY track_popularity DESC LIMIT 5"
   ]
  },
  {
   "cell_type": "markdown",
   "metadata": {},
   "source": [
    "lets see the most popular k-pop genre song in 2023"
   ]
  },
  {
   "cell_type": "code",
   "execution_count": 17,
   "metadata": {},
   "outputs": [
    {
     "name": "stdout",
     "output_type": "stream",
     "text": [
      " * sqlite:///database.db\n",
      "Done.\n"
     ]
    },
    {
     "data": {
      "text/html": [
       "<table>\n",
       "    <thead>\n",
       "        <tr>\n",
       "            <th>name</th>\n",
       "            <th>artist</th>\n",
       "            <th>genre</th>\n",
       "            <th>release_year</th>\n",
       "            <th>track_popularity</th>\n",
       "        </tr>\n",
       "    </thead>\n",
       "    <tbody>\n",
       "        <tr>\n",
       "            <td>Drama</td>\n",
       "            <td>aespa</td>\n",
       "            <td>k-pop</td>\n",
       "            <td>2023</td>\n",
       "            <td>78</td>\n",
       "        </tr>\n",
       "    </tbody>\n",
       "</table>"
      ],
      "text/plain": [
       "[('Drama', 'aespa', 'k-pop', 2023, 78)]"
      ]
     },
     "execution_count": 17,
     "metadata": {},
     "output_type": "execute_result"
    }
   ],
   "source": [
    "%%sql\n",
    "SELECT DISTINCT(name), artist, genre, release_year, track_popularity FROM SONGDATA\n",
    "WHERE genre = 'k-pop' AND release_year = 2023\n",
    "GROUP BY name\n",
    "ORDER BY track_popularity DESC LIMIT 1"
   ]
  },
  {
   "cell_type": "markdown",
   "metadata": {},
   "source": [
    "most popular gaming genre songs"
   ]
  },
  {
   "cell_type": "code",
   "execution_count": 18,
   "metadata": {},
   "outputs": [
    {
     "name": "stdout",
     "output_type": "stream",
     "text": [
      " * sqlite:///database.db\n",
      "Done.\n"
     ]
    },
    {
     "data": {
      "text/html": [
       "<table>\n",
       "    <thead>\n",
       "        <tr>\n",
       "            <th>name</th>\n",
       "            <th>artist</th>\n",
       "            <th>genre</th>\n",
       "            <th>release_year</th>\n",
       "            <th>track_popularity</th>\n",
       "        </tr>\n",
       "    </thead>\n",
       "    <tbody>\n",
       "        <tr>\n",
       "            <td>Die With A Smile</td>\n",
       "            <td>Lady Gaga, Bruno Mars</td>\n",
       "            <td>gaming</td>\n",
       "            <td>2024</td>\n",
       "            <td>100</td>\n",
       "        </tr>\n",
       "        <tr>\n",
       "            <td>BIRDS OF A FEATHER</td>\n",
       "            <td>Billie Eilish</td>\n",
       "            <td>gaming</td>\n",
       "            <td>2024</td>\n",
       "            <td>97</td>\n",
       "        </tr>\n",
       "        <tr>\n",
       "            <td>Good Luck, Babe!</td>\n",
       "            <td>Chappell Roan</td>\n",
       "            <td>gaming</td>\n",
       "            <td>2024</td>\n",
       "            <td>94</td>\n",
       "        </tr>\n",
       "        <tr>\n",
       "            <td>Espresso</td>\n",
       "            <td>Sabrina Carpenter</td>\n",
       "            <td>gaming</td>\n",
       "            <td>2024</td>\n",
       "            <td>90</td>\n",
       "        </tr>\n",
       "        <tr>\n",
       "            <td>Lose Control</td>\n",
       "            <td>Teddy Swims</td>\n",
       "            <td>gaming</td>\n",
       "            <td>2023</td>\n",
       "            <td>89</td>\n",
       "        </tr>\n",
       "    </tbody>\n",
       "</table>"
      ],
      "text/plain": [
       "[('Die With A Smile', 'Lady Gaga, Bruno Mars', 'gaming', 2024, 100),\n",
       " ('BIRDS OF A FEATHER', 'Billie Eilish', 'gaming', 2024, 97),\n",
       " ('Good Luck, Babe!', 'Chappell Roan', 'gaming', 2024, 94),\n",
       " ('Espresso', 'Sabrina Carpenter', 'gaming', 2024, 90),\n",
       " ('Lose Control', 'Teddy Swims', 'gaming', 2023, 89)]"
      ]
     },
     "execution_count": 18,
     "metadata": {},
     "output_type": "execute_result"
    }
   ],
   "source": [
    "%%sql\n",
    "SELECT DISTINCT(name), artist, genre, release_year, track_popularity FROM SONGDATA\n",
    "WHERE genre = 'gaming'\n",
    "GROUP BY name\n",
    "ORDER BY track_popularity DESC LIMIT 5"
   ]
  },
  {
   "cell_type": "markdown",
   "metadata": {},
   "source": [
    "lets see most popular gaming genre song in 2024"
   ]
  },
  {
   "cell_type": "code",
   "execution_count": 19,
   "metadata": {},
   "outputs": [
    {
     "name": "stdout",
     "output_type": "stream",
     "text": [
      " * sqlite:///database.db\n",
      "Done.\n"
     ]
    },
    {
     "data": {
      "text/html": [
       "<table>\n",
       "    <thead>\n",
       "        <tr>\n",
       "            <th>name</th>\n",
       "            <th>artist</th>\n",
       "            <th>genre</th>\n",
       "            <th>release_year</th>\n",
       "            <th>track_popularity</th>\n",
       "        </tr>\n",
       "    </thead>\n",
       "    <tbody>\n",
       "        <tr>\n",
       "            <td>Die With A Smile</td>\n",
       "            <td>Lady Gaga, Bruno Mars</td>\n",
       "            <td>gaming</td>\n",
       "            <td>2024</td>\n",
       "            <td>100</td>\n",
       "        </tr>\n",
       "    </tbody>\n",
       "</table>"
      ],
      "text/plain": [
       "[('Die With A Smile', 'Lady Gaga, Bruno Mars', 'gaming', 2024, 100)]"
      ]
     },
     "execution_count": 19,
     "metadata": {},
     "output_type": "execute_result"
    }
   ],
   "source": [
    "%%sql\n",
    "SELECT DISTINCT(name), artist, genre, release_year, track_popularity FROM SONGDATA\n",
    "WHERE genre = 'gaming' AND release_year = 2024\n",
    "GROUP BY name\n",
    "ORDER BY track_popularity DESC LIMIT 1"
   ]
  },
  {
   "cell_type": "markdown",
   "metadata": {},
   "source": [
    "<h3> 2024 popular songs of famous artists</h3>"
   ]
  },
  {
   "cell_type": "markdown",
   "metadata": {},
   "source": [
    "Bruno Mars"
   ]
  },
  {
   "cell_type": "code",
   "execution_count": 20,
   "metadata": {},
   "outputs": [
    {
     "name": "stdout",
     "output_type": "stream",
     "text": [
      " * sqlite:///database.db\n",
      "Done.\n"
     ]
    },
    {
     "data": {
      "text/html": [
       "<table>\n",
       "    <thead>\n",
       "        <tr>\n",
       "            <th>name</th>\n",
       "            <th>artist</th>\n",
       "            <th>genre</th>\n",
       "            <th>release_year</th>\n",
       "            <th>track_popularity</th>\n",
       "        </tr>\n",
       "    </thead>\n",
       "    <tbody>\n",
       "        <tr>\n",
       "            <td>Die With A Smile</td>\n",
       "            <td>Lady Gaga, Bruno Mars</td>\n",
       "            <td>pop</td>\n",
       "            <td>2024</td>\n",
       "            <td>100</td>\n",
       "        </tr>\n",
       "        <tr>\n",
       "            <td>APT.</td>\n",
       "            <td>ROSÉ, Bruno Mars</td>\n",
       "            <td>pop</td>\n",
       "            <td>2024</td>\n",
       "            <td>98</td>\n",
       "        </tr>\n",
       "    </tbody>\n",
       "</table>"
      ],
      "text/plain": [
       "[('Die With A Smile', 'Lady Gaga, Bruno Mars', 'pop', 2024, 100),\n",
       " ('APT.', 'ROSÉ, Bruno Mars', 'pop', 2024, 98)]"
      ]
     },
     "execution_count": 20,
     "metadata": {},
     "output_type": "execute_result"
    }
   ],
   "source": [
    "%%sql\n",
    "SELECT DISTINCT(name), artist, genre, release_year, track_popularity FROM SONGDATA\n",
    "WHERE artist LIKE \"%Bruno Mars%\" AND release_year = 2024\n",
    "GROUP BY name\n",
    "ORDER BY track_popularity DESC LIMIT 5"
   ]
  },
  {
   "cell_type": "markdown",
   "metadata": {},
   "source": [
    "Sabrina Carpenter"
   ]
  },
  {
   "cell_type": "code",
   "execution_count": 21,
   "metadata": {},
   "outputs": [
    {
     "name": "stdout",
     "output_type": "stream",
     "text": [
      " * sqlite:///database.db\n",
      "Done.\n"
     ]
    },
    {
     "data": {
      "text/html": [
       "<table>\n",
       "    <thead>\n",
       "        <tr>\n",
       "            <th>name</th>\n",
       "            <th>artist</th>\n",
       "            <th>genre</th>\n",
       "            <th>release_year</th>\n",
       "            <th>track_popularity</th>\n",
       "        </tr>\n",
       "    </thead>\n",
       "    <tbody>\n",
       "        <tr>\n",
       "            <td>Espresso</td>\n",
       "            <td>Sabrina Carpenter</td>\n",
       "            <td>pop</td>\n",
       "            <td>2024</td>\n",
       "            <td>90</td>\n",
       "        </tr>\n",
       "        <tr>\n",
       "            <td>Bed Chem</td>\n",
       "            <td>Sabrina Carpenter</td>\n",
       "            <td>pop</td>\n",
       "            <td>2024</td>\n",
       "            <td>90</td>\n",
       "        </tr>\n",
       "        <tr>\n",
       "            <td>Please Please Please</td>\n",
       "            <td>Sabrina Carpenter</td>\n",
       "            <td>pop</td>\n",
       "            <td>2024</td>\n",
       "            <td>88</td>\n",
       "        </tr>\n",
       "        <tr>\n",
       "            <td>Juno</td>\n",
       "            <td>Sabrina Carpenter</td>\n",
       "            <td>pop</td>\n",
       "            <td>2024</td>\n",
       "            <td>87</td>\n",
       "        </tr>\n",
       "        <tr>\n",
       "            <td>Taste</td>\n",
       "            <td>Sabrina Carpenter</td>\n",
       "            <td>pop</td>\n",
       "            <td>2024</td>\n",
       "            <td>81</td>\n",
       "        </tr>\n",
       "    </tbody>\n",
       "</table>"
      ],
      "text/plain": [
       "[('Espresso', 'Sabrina Carpenter', 'pop', 2024, 90),\n",
       " ('Bed Chem', 'Sabrina Carpenter', 'pop', 2024, 90),\n",
       " ('Please Please Please', 'Sabrina Carpenter', 'pop', 2024, 88),\n",
       " ('Juno', 'Sabrina Carpenter', 'pop', 2024, 87),\n",
       " ('Taste', 'Sabrina Carpenter', 'pop', 2024, 81)]"
      ]
     },
     "execution_count": 21,
     "metadata": {},
     "output_type": "execute_result"
    }
   ],
   "source": [
    "%%sql\n",
    "SELECT DISTINCT(name), artist, genre, release_year, track_popularity FROM SONGDATA\n",
    "WHERE artist LIKE \"%Sabrina Carpenter%\" AND release_year = 2024\n",
    "GROUP BY name\n",
    "ORDER BY track_popularity DESC LIMIT 5"
   ]
  },
  {
   "cell_type": "markdown",
   "metadata": {},
   "source": [
    "Taylor Swift"
   ]
  },
  {
   "cell_type": "code",
   "execution_count": 22,
   "metadata": {},
   "outputs": [
    {
     "name": "stdout",
     "output_type": "stream",
     "text": [
      " * sqlite:///database.db\n",
      "Done.\n"
     ]
    },
    {
     "data": {
      "text/html": [
       "<table>\n",
       "    <thead>\n",
       "        <tr>\n",
       "            <th>name</th>\n",
       "            <th>artist</th>\n",
       "            <th>genre</th>\n",
       "            <th>release_year</th>\n",
       "            <th>track_popularity</th>\n",
       "        </tr>\n",
       "    </thead>\n",
       "    <tbody>\n",
       "        <tr>\n",
       "            <td>Fortnight (feat. Post Malone)</td>\n",
       "            <td>Taylor Swift, Post Malone</td>\n",
       "            <td>pop</td>\n",
       "            <td>2024</td>\n",
       "            <td>84</td>\n",
       "        </tr>\n",
       "        <tr>\n",
       "            <td>I Can Do It With a Broken Heart</td>\n",
       "            <td>Taylor Swift</td>\n",
       "            <td>gaming</td>\n",
       "            <td>2024</td>\n",
       "            <td>83</td>\n",
       "        </tr>\n",
       "    </tbody>\n",
       "</table>"
      ],
      "text/plain": [
       "[('Fortnight (feat. Post Malone)', 'Taylor Swift, Post Malone', 'pop', 2024, 84),\n",
       " ('I Can Do It With a Broken Heart', 'Taylor Swift', 'gaming', 2024, 83)]"
      ]
     },
     "execution_count": 22,
     "metadata": {},
     "output_type": "execute_result"
    }
   ],
   "source": [
    "%%sql\n",
    "SELECT DISTINCT(name), artist, genre, release_year, track_popularity FROM SONGDATA\n",
    "WHERE artist LIKE \"%Taylor Swift%\" AND release_year = 2024\n",
    "GROUP BY name\n",
    "ORDER BY track_popularity DESC LIMIT 5"
   ]
  },
  {
   "cell_type": "markdown",
   "metadata": {},
   "source": [
    "Drake"
   ]
  },
  {
   "cell_type": "code",
   "execution_count": 23,
   "metadata": {},
   "outputs": [
    {
     "name": "stdout",
     "output_type": "stream",
     "text": [
      " * sqlite:///database.db\n",
      "Done.\n"
     ]
    },
    {
     "data": {
      "text/html": [
       "<table>\n",
       "    <thead>\n",
       "        <tr>\n",
       "            <th>name</th>\n",
       "            <th>artist</th>\n",
       "            <th>genre</th>\n",
       "            <th>release_year</th>\n",
       "            <th>track_popularity</th>\n",
       "        </tr>\n",
       "    </thead>\n",
       "    <tbody>\n",
       "        <tr>\n",
       "            <td>Circadian Rhythm</td>\n",
       "            <td>Drake</td>\n",
       "            <td>hip-hop</td>\n",
       "            <td>2024</td>\n",
       "            <td>79</td>\n",
       "        </tr>\n",
       "        <tr>\n",
       "            <td>No Face</td>\n",
       "            <td>Drake</td>\n",
       "            <td>hip-hop</td>\n",
       "            <td>2024</td>\n",
       "            <td>78</td>\n",
       "        </tr>\n",
       "        <tr>\n",
       "            <td>It&#x27;s Up (feat. Young Thug &amp; 21 Savage)</td>\n",
       "            <td>Drake, Young Thug, 21 Savage</td>\n",
       "            <td>hip-hop</td>\n",
       "            <td>2024</td>\n",
       "            <td>76</td>\n",
       "        </tr>\n",
       "        <tr>\n",
       "            <td>Sideways</td>\n",
       "            <td>Gordo, Drake</td>\n",
       "            <td>electronic</td>\n",
       "            <td>2024</td>\n",
       "            <td>70</td>\n",
       "        </tr>\n",
       "    </tbody>\n",
       "</table>"
      ],
      "text/plain": [
       "[('Circadian Rhythm', 'Drake', 'hip-hop', 2024, 79),\n",
       " ('No Face', 'Drake', 'hip-hop', 2024, 78),\n",
       " (\"It's Up (feat. Young Thug & 21 Savage)\", 'Drake, Young Thug, 21 Savage', 'hip-hop', 2024, 76),\n",
       " ('Sideways', 'Gordo, Drake', 'electronic', 2024, 70)]"
      ]
     },
     "execution_count": 23,
     "metadata": {},
     "output_type": "execute_result"
    }
   ],
   "source": [
    "%%sql\n",
    "SELECT DISTINCT(name), artist, genre, release_year, track_popularity FROM SONGDATA\n",
    "WHERE artist LIKE \"%Drake%\" AND release_year = 2024\n",
    "GROUP BY name\n",
    "ORDER BY track_popularity DESC LIMIT 5"
   ]
  },
  {
   "cell_type": "markdown",
   "metadata": {},
   "source": [
    "Billie Eilish"
   ]
  },
  {
   "cell_type": "code",
   "execution_count": 24,
   "metadata": {},
   "outputs": [
    {
     "name": "stdout",
     "output_type": "stream",
     "text": [
      " * sqlite:///database.db\n",
      "Done.\n"
     ]
    },
    {
     "data": {
      "text/html": [
       "<table>\n",
       "    <thead>\n",
       "        <tr>\n",
       "            <th>name</th>\n",
       "            <th>artist</th>\n",
       "            <th>genre</th>\n",
       "            <th>release_year</th>\n",
       "            <th>track_popularity</th>\n",
       "        </tr>\n",
       "    </thead>\n",
       "    <tbody>\n",
       "        <tr>\n",
       "            <td>BIRDS OF A FEATHER</td>\n",
       "            <td>Billie Eilish</td>\n",
       "            <td>pop</td>\n",
       "            <td>2024</td>\n",
       "            <td>97</td>\n",
       "        </tr>\n",
       "        <tr>\n",
       "            <td>WILDFLOWER</td>\n",
       "            <td>Billie Eilish</td>\n",
       "            <td>pop</td>\n",
       "            <td>2024</td>\n",
       "            <td>93</td>\n",
       "        </tr>\n",
       "        <tr>\n",
       "            <td>Guess featuring billie eilish</td>\n",
       "            <td>Charli xcx, Billie Eilish</td>\n",
       "            <td>pop</td>\n",
       "            <td>2024</td>\n",
       "            <td>85</td>\n",
       "        </tr>\n",
       "    </tbody>\n",
       "</table>"
      ],
      "text/plain": [
       "[('BIRDS OF A FEATHER', 'Billie Eilish', 'pop', 2024, 97),\n",
       " ('WILDFLOWER', 'Billie Eilish', 'pop', 2024, 93),\n",
       " ('Guess featuring billie eilish', 'Charli xcx, Billie Eilish', 'pop', 2024, 85)]"
      ]
     },
     "execution_count": 24,
     "metadata": {},
     "output_type": "execute_result"
    }
   ],
   "source": [
    "%%sql\n",
    "SELECT DISTINCT(name), artist, genre, release_year, track_popularity FROM SONGDATA\n",
    "WHERE artist LIKE \"%Billie Eilish%\" AND release_year = 2024\n",
    "GROUP BY name\n",
    "ORDER BY track_popularity DESC LIMIT 5"
   ]
  },
  {
   "cell_type": "markdown",
   "metadata": {},
   "source": [
    "<h4>How much popularity did songs of few famous artists gain in 2024?</h4>\n",
    "1. 2 songs by Bruno Mars were very popular and topped the popularity list<br>\n",
    "2. Sabrina Carpenter and Billie Eilish had few songs which were also very popular<br>\n",
    "3. Songs released by Taylor Swift and Drake couldn't gain much popularity "
   ]
  }
 ],
 "metadata": {
  "kernelspec": {
   "display_name": "Python 3",
   "language": "python",
   "name": "python3"
  },
  "language_info": {
   "codemirror_mode": {
    "name": "ipython",
    "version": 3
   },
   "file_extension": ".py",
   "mimetype": "text/x-python",
   "name": "python",
   "nbconvert_exporter": "python",
   "pygments_lexer": "ipython3",
   "version": "3.11.9"
  }
 },
 "nbformat": 4,
 "nbformat_minor": 2
}
